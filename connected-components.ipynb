{
 "cells": [
  {
   "cell_type": "markdown",
   "source": [
    "# Traitement distribué de données massives\n",
    "***\n",
    "Ce document présente une approche efficace pour résoudre le problème de recherche des composants connectés dans un graphe donné. La résolution de ce problème peut être utile dans une grande variété de domaines d'application allant de l'analyse de communautés dans les réseaux sociaux, le regroupement basé sur la densité, la segmentation d'images, le couplage d'enregistrements, la tâche d'identification des enregistrements d'une base de données faisant référence à la même entité, etc.\n",
    "\n",
    "\n",
    "Ce document est basé sur l'article [CCF: Fast and Scalable Connected Component Computation in MapReduce](https://www.cse.unr.edu/~hkardes/pdfs/ccf.pdf) écrit par H.Kardes, S.Agrawal, X.Wang et A.Sun en 2014."
   ],
   "metadata": {
    "collapsed": false
   }
  },
  {
   "cell_type": "code",
   "execution_count": 1,
   "metadata": {
    "application/vnd.databricks.v1+cell": {
     "cellMetadata": {},
     "inputWidgets": {},
     "nuid": "bb898705-900c-49ee-9246-1c9405ff8c40",
     "showTitle": false,
     "title": ""
    },
    "ExecuteTime": {
     "end_time": "2024-04-24T16:31:33.719117100Z",
     "start_time": "2024-04-24T16:31:19.405402900Z"
    }
   },
   "outputs": [
    {
     "name": "stderr",
     "output_type": "stream",
     "text": [
      "D:\\miniconda3\\envs\\data-study\\lib\\site-packages\\pyspark\\context.py:317: FutureWarning: Python 3.7 support is deprecated in Spark 3.4.\n",
      "  warnings.warn(\"Python 3.7 support is deprecated in Spark 3.4.\", FutureWarning)\n"
     ]
    }
   ],
   "source": [
    "import platform\n",
    "import time\n",
    "import warnings\n",
    "\n",
    "import matplotlib.pyplot as plt\n",
    "import pyspark\n",
    "from pyspark import SparkFiles\n",
    "from pyspark.sql import SparkSession\n",
    "\n",
    "warnings.filterwarnings('ignore')\n",
    "root = \"file://\"\n",
    "if \"windows\" in platform.system().lower():\n",
    "    root = \"file:////\"\n",
    "\n",
    "%matplotlib inline\n",
    "\n",
    "conf = (pyspark.SparkConf(loadDefaults=False)\n",
    "        .setAppName(\"connected-component\")\n",
    "        .setMaster(\"local[*]\"))\n",
    "ss = SparkSession.builder.config(conf=conf).getOrCreate()"
   ]
  },
  {
   "cell_type": "markdown",
   "metadata": {
    "application/vnd.databricks.v1+cell": {
     "cellMetadata": {},
     "inputWidgets": {},
     "nuid": "585770f0-239e-4587-8984-35fd5c09cf34",
     "showTitle": false,
     "title": ""
    }
   },
   "source": [
    "## 1. Implémentation des algorithmes\n",
    "***\n",
    "\n",
    "De nombreux systèmes différents du monde réel peuvent être modélisés sous forme de graphes (nœuds/arêtes). Comme certains graphes ont une très grande taille, c'est un sujet d'actualité de construire des algorithmes parallélisés hautement évolutifs pour en extraire efficacement des informations utiles. Le framework Spark fournit des méthodes de calcul distribué qui permettent de traiter d'énormes volumes de données.\n",
    "\n",
    "<img src=\"img/ccf.png\" alt=\"CCF\" width=\"800\" style=\"width: 800px\"/>\n",
    "\n",
    "La figure ci-dessus résume le fonctionnement du module **Connected Component Finder (CCF)**.\n",
    "\n",
    "- Les entrées sont une liste de toutes les arêtes du graphe. Nous rappelons que les arêtes sont modélisées par une paire (clé, valeur) représentant deux nœuds connectés.\n",
    "\n",
    "- Les sorties sont les regroupements de chaque nœud du graphique au plus petit identifiant de nœud (nombre entier) du composant connexe auquel il appartient (choix arbitraire fait dans l'article pour identifier un composant).\n",
    "\n",
    "Entre les entrées et les sorties, il y a une boucle sur 2 taches MapReduce jusqu'à ce que tous les nœuds soient affectés à leurs composants connexes :\n",
    "1. CCF-Iterate : lier chaque nœud à l'identifiant de son composant connexe\n",
    "2. CFF-Dedup : suppression des doublons générés par CCF-Iterate\n",
    "\n",
    "Il existe 2 versions de CFF-Iterate. La deuxième version est destinée à améliorer la complexité temporelle en fournissant une collection triée à la tâche Reduce de CCF-Iterate. En effet, à un moment donné, l'algorithme a besoin de trouver la valeur minimale dans une liste. Au lieu de parcourir toute la liste, les valeurs peuvent être transmises au réducteur de manière triée avec un partitionnement personnalisé. Les auteurs précisent que cette amélioration ne fait pas une telle différence lorsque le graphe du graphe est relativement petit (<= 50k nœuds). Mais cela est plus efficace lorsqu'il s'agit de graphes avec des milliards de nœuds.\n",
    "\n",
    "Le frameWork Spark nous donne la possibilité d'implémenter des algorithmes avec les classes RDD ou Dataframe représentant des collections distribuées."
   ]
  },
  {
   "cell_type": "markdown",
   "metadata": {
    "application/vnd.databricks.v1+cell": {
     "cellMetadata": {},
     "inputWidgets": {},
     "nuid": "71f55a81-f54c-41ec-829f-b71c454b896f",
     "showTitle": false,
     "title": ""
    }
   },
   "source": [
    "### 1.1. Algorithmes avec Spark RDD\n",
    "***"
   ]
  },
  {
   "cell_type": "code",
   "execution_count": 2,
   "metadata": {
    "application/vnd.databricks.v1+cell": {
     "cellMetadata": {},
     "inputWidgets": {},
     "nuid": "2afc0d02-6b4d-458e-b414-cc47e8a08677",
     "showTitle": false,
     "title": ""
    },
    "ExecuteTime": {
     "end_time": "2024-04-24T10:39:47.215744Z",
     "start_time": "2024-04-24T10:39:47.199926400Z"
    }
   },
   "outputs": [],
   "source": [
    "#Accumulateur distribué entre les taches MapReduce pour nous permettre de compter les paires générées par ccf_iterate\n",
    "new_pairs_accumulator = ss.sparkContext.accumulator(0)\n",
    "\n",
    "\n",
    "#Algoritme Reduce du CCF-Iterate générant un itérateur de paire (clé, valeur)\n",
    "def ccf_iterate_reduce(pair):\n",
    "    key, values = pair\n",
    "    minimum = key\n",
    "    value_list = []\n",
    "    for value in values:\n",
    "        if value < minimum:\n",
    "            minimum = value\n",
    "        value_list.append(value)\n",
    "    if minimum < key:\n",
    "        yield key, minimum\n",
    "        for value in value_list:\n",
    "            if minimum != value:\n",
    "                new_pairs_accumulator.add(1)\n",
    "                yield value, minimum\n",
    "\n",
    "\n",
    "#Algoritme Reduce du CCF-Iterate avec tri secondaire générant un itérateur de paire (clé, valeur)\n",
    "def ccf_iterate_reduce_with_secondary_sorting(pair):\n",
    "    key, values = pair\n",
    "    minimum = values[0]\n",
    "    if minimum < key:\n",
    "        yield key, minimum\n",
    "        i = 0\n",
    "        for value in values:\n",
    "            if i != 0:\n",
    "                new_pairs_accumulator.add(1)\n",
    "                yield value, minimum\n",
    "            i += 1\n",
    "\n",
    "\n",
    "#Algorithme permettant de trier les résultats du Map de CCF-Iterate\n",
    "def sort_group_values(pair):\n",
    "    key, values = pair\n",
    "    return key, sorted(values)\n",
    "\n",
    "\n",
    "#Algoritme d'une itération de CCF-Iterate incluant Map et Reduce\n",
    "def ccf_iterate(rdd):\n",
    "    map_job = rdd.flatMap(lambda x: [(x[0], x[1]), (x[1], x[0])]).groupByKey()\n",
    "    reduce_job = map_job.flatMap(lambda pair: ccf_iterate_reduce(pair))\n",
    "    return map_job, reduce_job\n",
    "\n",
    "\n",
    "#Algoritme d'une itération de CCF-Iterate avec tri secondaire incluant Map et Reduce\n",
    "def ccf_iterate_with_secondary_sorting(rdd):\n",
    "    map_job = rdd.flatMap(lambda x: [(x[0], x[1]), (x[1], x[0])]).groupByKey().map(lambda pair: sort_group_values(pair))\n",
    "    reduce_job = map_job.flatMap(lambda pair: ccf_iterate_reduce_with_secondary_sorting(pair))\n",
    "    return map_job, reduce_job\n",
    "\n",
    "\n",
    "#Algoritme permettant de supprimer les doublons après une Phase Reduce de CCF-Iterate\n",
    "def ccf_dedup(rdd):\n",
    "    return rdd.distinct()\n",
    "\n",
    "\n",
    "#Algoritme permettant d'exécuter toutes les itérations possibles de CCF-Iterate avec tri secondaire ou non\n",
    "def process_ccf_iterate(rdd, sorting=False):\n",
    "    i = 0\n",
    "    edges = rdd\n",
    "    new_pairs_accumulator.value = 1\n",
    "    while new_pairs_accumulator.value > 0:\n",
    "        i += 1\n",
    "        new_pairs_accumulator.value = 0\n",
    "        if sorting:\n",
    "            map_job, reduce_job = ccf_iterate_with_secondary_sorting(edges)\n",
    "            edges = ccf_dedup(reduce_job)\n",
    "        else:\n",
    "            map_job, reduce_job = ccf_iterate(edges)\n",
    "            edges = ccf_dedup(reduce_job)\n",
    "        edge_count = edges.count()\n",
    "        print(\"=======> (Iteration : \" + str(i) + \"), (New Pairs : \" + str(new_pairs_accumulator.value) +\n",
    "              \"), (Edge count : \" + str(edge_count) + \")\")\n",
    "        if new_pairs_accumulator.value == 0:\n",
    "            return map_job\n",
    "\n",
    "\n",
    "def print_distinct_connected_components(rdd):\n",
    "    keys = rdd.keys().collect()\n",
    "    cc = rdd.filter(lambda y: not ((len(y[1]) == 1) and (list(y[1])[0] in keys)))\n",
    "    for row in cc.collect():\n",
    "        print(\"(\" + str(row[0]) + \", [\", end='')\n",
    "        i = 0\n",
    "        for val in row[1]:\n",
    "            if i > 0:\n",
    "                print(\", \", end='')\n",
    "            print(str(val), end='')\n",
    "            i += 1\n",
    "        print(\"])\")\n",
    "\n",
    "\n",
    "def print_largest_components_size(rdd):\n",
    "    size = rdd.map(lambda x: len(x[1])).max() + 1\n",
    "    print(\"The largest component has \" + str(size) + \" elements\")"
   ]
  },
  {
   "cell_type": "markdown",
   "metadata": {
    "application/vnd.databricks.v1+cell": {
     "cellMetadata": {},
     "inputWidgets": {},
     "nuid": "2799c923-20bf-432b-b3cd-bdddbc57161b",
     "showTitle": false,
     "title": ""
    }
   },
   "source": [
    "### 1.2. Algorithmes avec Spark DataFrame\n",
    "***"
   ]
  },
  {
   "cell_type": "code",
   "execution_count": 3,
   "metadata": {
    "application/vnd.databricks.v1+cell": {
     "cellMetadata": {},
     "inputWidgets": {},
     "nuid": "583dd8c3-49a2-4ab6-a0fc-041935c6fc08",
     "showTitle": false,
     "title": ""
    },
    "ExecuteTime": {
     "end_time": "2024-04-24T10:39:55.460794300Z",
     "start_time": "2024-04-24T10:39:54.220773400Z"
    }
   },
   "outputs": [],
   "source": [
    "from pyspark.sql.functions import array, collect_list, explode, udf, sort_array\n",
    "from pyspark.sql.types import StructType, StructField, ArrayType, StringType, IntegerType\n",
    "\n",
    "\n",
    "#Algoritme Reduce du CCF-Iterate générant le nombre de nouvelles paires générées et une liste de paire (clé, valeur)\n",
    "#L'accumulateur utilisé dans les implementations RDD ne marche pas avec les Udf Dataframe après des tests.\n",
    "#D'après les tests, une fois l'accumulateur modifié par une Udf de Dataframe dans une itération, il devient non_modifiable ou non-réinitialisable par le processus pilote\n",
    "@udf(returnType=StructType(\n",
    "    [StructField(\"new_pairs\", IntegerType()), StructField(\"edges\", ArrayType(ArrayType(StringType())))]))\n",
    "def ccf_iterate_reduce_udf(key, values):\n",
    "    new_pairs_counter = 0\n",
    "    minimum = key\n",
    "    value_list = []\n",
    "    result = []\n",
    "    for value in values:\n",
    "        if value < minimum:\n",
    "            minimum = value\n",
    "        value_list.append(value)\n",
    "    if minimum < key:\n",
    "        result.append([key, minimum])\n",
    "        for value in value_list:\n",
    "            if minimum != value:\n",
    "                new_pairs_counter += 1\n",
    "                result.append([value, minimum])\n",
    "    return new_pairs_counter, result\n",
    "\n",
    "\n",
    "#Algoritme Reduce du CCF-Iterate avec tri secondaire générant le nombre de nouvelles paires générées et une liste de paire (clé, valeur)\n",
    "@udf(returnType=StructType(\n",
    "    [StructField(\"new_pairs\", IntegerType()), StructField(\"edges\", ArrayType(ArrayType(StringType())))]))\n",
    "def ccf_iterate_reduce_with_secondary_sorting_udf(key, values):\n",
    "    new_pairs_counter = 0\n",
    "    minimum = values[0]\n",
    "    result = []\n",
    "    if minimum < key:\n",
    "        result.append([key, minimum])\n",
    "        i = 0\n",
    "        for value in values:\n",
    "            if i != 0:\n",
    "                new_pairs_counter += 1\n",
    "                result.append([value, minimum])\n",
    "            i += 1\n",
    "    return new_pairs_counter, result\n",
    "\n",
    "\n",
    "#Algoritme d'une itération de CCF-Iterate avec tri secondaire ou non incluant Map et Reduce\n",
    "def ccf_iterate_df(dataframe, sorting=False):\n",
    "    df_map_job = dataframe \\\n",
    "        .transform(\n",
    "        lambda df: df.select(explode(array(array(df.columns[0], df.columns[1]), array(df.columns[1], df.columns[0]))))) \\\n",
    "        .transform(lambda df: df.select(df[0].getItem(0), df[0].getItem(1))) \\\n",
    "        .transform(lambda df: df.groupBy(df.columns[0]).agg(collect_list(df.columns[1])))\n",
    "    if sorting:\n",
    "        df_map_job = df_map_job.select(df_map_job.columns[0], sort_array(df_map_job.columns[1]))\n",
    "        df_reduce_job = df_map_job.transform(\n",
    "            lambda df: df.select(ccf_iterate_reduce_with_secondary_sorting_udf(df[0], df[1])))\n",
    "        return df_map_job, df_reduce_job\n",
    "    else:\n",
    "        df_reduce_job = df_map_job.transform(lambda df: df.select(ccf_iterate_reduce_udf(df[0], df[1])))\n",
    "        return df_map_job, df_reduce_job\n",
    "\n",
    "\n",
    "#Algoritme permettant de supprimer les doublons après une Phase Reduce de CCF-Iterate\n",
    "def ccf_dedup_df(dataframe):\n",
    "    return dataframe.distinct()\n",
    "\n",
    "\n",
    "#Algoritme permettant d'exécuter toutes les itérations possibles de CCF-Iterate avec tri secondaire ou non\n",
    "def process_ccf_iterate_df(dataframe, sorting=False):\n",
    "    i = 0\n",
    "    edges = dataframe\n",
    "    new_pairs_were_produced = True\n",
    "    while new_pairs_were_produced:\n",
    "        i += 1\n",
    "        map_job, reduce_job = ccf_iterate_df(edges, sorting=sorting)\n",
    "\n",
    "        reduce_job_edges = reduce_job.transform(lambda df: df.select(explode(df[0].getField(\"edges\")))) \\\n",
    "            .transform(lambda df: df.select(df[0].getItem(0), df[0].getItem(1)))\n",
    "        df_reduce_job_new_pairs_counter = reduce_job.transform(lambda df: df.select(df[0].getField(\"new_pairs\"))) \\\n",
    "            .transform(lambda df: df.filter(\"`\" + df.columns[0] + \"`> 0\"))\n",
    "        new_pairs_were_produced = df_reduce_job_new_pairs_counter.count() > 0\n",
    "\n",
    "        edges = ccf_dedup_df(reduce_job_edges)\n",
    "        edge_count = edges.count()\n",
    "        print(\"=======> (Iteration : \" + str(i) + \"), (New Pairs were produced : \" +\n",
    "              str(new_pairs_were_produced) + \"), (Edge count : \" + str(edge_count) + \")\")\n",
    "        if not new_pairs_were_produced:\n",
    "            return map_job"
   ]
  },
  {
   "cell_type": "markdown",
   "metadata": {
    "application/vnd.databricks.v1+cell": {
     "cellMetadata": {},
     "inputWidgets": {},
     "nuid": "1c3408e2-e65b-41bd-ac56-6f7b690e839b",
     "showTitle": false,
     "title": ""
    }
   },
   "source": [
    "## 2. Analyse expérimentale des algorithmes sur des graphes de grandes tailles\n",
    "***\n",
    "\n",
    "Les auteurs revendiquent la viabilité de leur approche sur un graphe massif d'environ 6 milliards de nœuds. Dans ce document, nous avons utilisé ordinateur portable pour tester nos implémentations sur des graphes plus petits compte tenu du cout élevé des ressources de calcul.\n",
    "\n",
    "Nous avons choisi d'utiliser des graphes sur internet dont le [Berkeley-Stanford web graph](https://snap.stanford.edu/data/web-BerkStan.html) d'environ 685 milles nœuds et 7.6 millions d'arêtes, puis le [Web Google graph](http://snap.stanford.edu/data/web-Google.html) d'environ 875 milles nœuds et 5,1 millions d'arêtes. Les nœuds représentent des pages Web et les segments orientés représentent des hyperliens entre eux. Les données contiennent 2 colonnes. Chaque ligne (hormis les en-têtes) est un couple (clé, valeur) qui représente 2 nœuds connectés."
   ]
  },
  {
   "cell_type": "markdown",
   "metadata": {
    "application/vnd.databricks.v1+cell": {
     "cellMetadata": {},
     "inputWidgets": {},
     "nuid": "017de931-cd54-4d9d-8d3c-4f6f08fefe41",
     "showTitle": false,
     "title": ""
    }
   },
   "source": [
    "### 2.1. Graphe 1\n",
    "***"
   ]
  },
  {
   "cell_type": "code",
   "execution_count": 4,
   "metadata": {
    "application/vnd.databricks.v1+cell": {
     "cellMetadata": {},
     "inputWidgets": {},
     "nuid": "80406411-065e-4894-8d9d-40d53c086607",
     "showTitle": false,
     "title": ""
    },
    "ExecuteTime": {
     "end_time": "2024-04-24T03:41:04.190388200Z",
     "start_time": "2024-04-24T03:40:48.274551300Z"
    }
   },
   "outputs": [
    {
     "name": "stdout",
     "output_type": "stream",
     "text": [
      "+------+------+\n",
      "|    _1|    _2|\n",
      "+------+------+\n",
      "|     1|     2|\n",
      "|     1|     5|\n",
      "|     1|     7|\n",
      "|     1|     8|\n",
      "|     1|     9|\n",
      "|     1|    11|\n",
      "|     1|    17|\n",
      "|     1|254913|\n",
      "|     1|438238|\n",
      "|254913|255378|\n",
      "|254913|255379|\n",
      "|254913|255383|\n",
      "|254913|255384|\n",
      "|254913|255392|\n",
      "|254913|255393|\n",
      "|254913|255394|\n",
      "|254913|255396|\n",
      "|254913|255399|\n",
      "|254913|255401|\n",
      "|254913|255402|\n",
      "+------+------+\n"
     ]
    }
   ],
   "source": [
    "ss.sparkContext.addFile(\"https://gitlab.com/diehl17/data/-/raw/main/web/web-BerkStan.txt\")\n",
    "raw_data = ss.sparkContext.textFile(root + SparkFiles.get(\"web-BerkStan.txt\"))\n",
    "\n",
    "raw_data = raw_data.filter(lambda x: \"#\" not in x)\n",
    "rdd_graph = raw_data.map(lambda x: x.split(\"\\t\"))\n",
    "df_graph = rdd_graph.toDF()\n",
    "df_graph.show()"
   ]
  },
  {
   "cell_type": "markdown",
   "metadata": {
    "application/vnd.databricks.v1+cell": {
     "cellMetadata": {},
     "inputWidgets": {},
     "nuid": "839ef213-3cfd-4a6b-96b1-a7b7ae5259d9",
     "showTitle": false,
     "title": ""
    }
   },
   "source": [
    "#### a. CCF-iterate avec Spark RDD\n",
    "***"
   ]
  },
  {
   "cell_type": "code",
   "execution_count": 5,
   "metadata": {
    "application/vnd.databricks.v1+cell": {
     "cellMetadata": {},
     "inputWidgets": {},
     "nuid": "bd8041c3-e15f-4b40-973e-0c4085a8b080",
     "showTitle": false,
     "title": ""
    },
    "ExecuteTime": {
     "end_time": "2024-04-24T03:44:36.709203600Z",
     "start_time": "2024-04-24T03:41:04.190388200Z"
    }
   },
   "outputs": [
    {
     "name": "stdout",
     "output_type": "stream",
     "text": [
      "******** Start ********\n",
      "=======> (Iteration : 1), (New Pairs : 13994745), (Edge count : 2535600)\n",
      "=======> (Iteration : 2), (New Pairs : 4186243), (Edge count : 1837453)\n",
      "=======> (Iteration : 3), (New Pairs : 2696208), (Edge count : 1362051)\n",
      "=======> (Iteration : 4), (New Pairs : 1471388), (Edge count : 902766)\n",
      "=======> (Iteration : 5), (New Pairs : 455636), (Edge count : 778913)\n",
      "=======> (Iteration : 6), (New Pairs : 199724), (Edge count : 779988)\n",
      "=======> (Iteration : 7), (New Pairs : 200543), (Edge count : 791136)\n",
      "=======> (Iteration : 8), (New Pairs : 220839), (Edge count : 786668)\n",
      "=======> (Iteration : 9), (New Pairs : 209516), (Edge count : 759304)\n",
      "=======> (Iteration : 10), (New Pairs : 151397), (Edge count : 691340)\n",
      "=======> (Iteration : 11), (New Pairs : 13740), (Edge count : 684749)\n",
      "=======> (Iteration : 12), (New Pairs : 390), (Edge count : 684554)\n",
      "=======> (Iteration : 13), (New Pairs : 0), (Edge count : 684554)\n",
      "******** End ********\n",
      "\n",
      "Total elapsed time : 208.59819912910461 secondes\n",
      "The largest component has 654782 elements\n"
     ]
    }
   ],
   "source": [
    "print(\"******** Start ********\")\n",
    "start_time = time.time()\n",
    "components = process_ccf_iterate(rdd_graph)\n",
    "time_ccf = time.time() - start_time\n",
    "print(\"******** End ********\")\n",
    "print(\"\\nTotal elapsed time :\", time_ccf, \"secondes\")\n",
    "print_largest_components_size(components)"
   ]
  },
  {
   "cell_type": "markdown",
   "metadata": {
    "application/vnd.databricks.v1+cell": {
     "cellMetadata": {},
     "inputWidgets": {},
     "nuid": "6a46c274-e787-4e9e-8f8c-431b6fdc105e",
     "showTitle": false,
     "title": ""
    }
   },
   "source": [
    "#### b. CCF-iterate avec Spark RDD et tri secondaire\n",
    "***"
   ]
  },
  {
   "cell_type": "code",
   "execution_count": 6,
   "metadata": {
    "application/vnd.databricks.v1+cell": {
     "cellMetadata": {},
     "inputWidgets": {},
     "nuid": "dc2cd0b2-b018-400e-9f6d-4c877036f597",
     "showTitle": false,
     "title": ""
    },
    "ExecuteTime": {
     "end_time": "2024-04-24T03:48:24.636317600Z",
     "start_time": "2024-04-24T03:44:36.709203600Z"
    }
   },
   "outputs": [
    {
     "name": "stdout",
     "output_type": "stream",
     "text": [
      "******** Start ********\n",
      "=======> (Iteration : 1), (New Pairs : 14100356), (Edge count : 2591960)\n",
      "=======> (Iteration : 2), (New Pairs : 4291433), (Edge count : 1837453)\n",
      "=======> (Iteration : 3), (New Pairs : 2696208), (Edge count : 1362051)\n",
      "=======> (Iteration : 4), (New Pairs : 1471388), (Edge count : 902766)\n",
      "=======> (Iteration : 5), (New Pairs : 455636), (Edge count : 778913)\n",
      "=======> (Iteration : 6), (New Pairs : 199724), (Edge count : 779988)\n",
      "=======> (Iteration : 7), (New Pairs : 200543), (Edge count : 791136)\n",
      "=======> (Iteration : 8), (New Pairs : 220839), (Edge count : 786668)\n",
      "=======> (Iteration : 9), (New Pairs : 209516), (Edge count : 759304)\n",
      "=======> (Iteration : 10), (New Pairs : 151397), (Edge count : 691340)\n",
      "=======> (Iteration : 11), (New Pairs : 13740), (Edge count : 684749)\n",
      "=======> (Iteration : 12), (New Pairs : 390), (Edge count : 684554)\n",
      "=======> (Iteration : 13), (New Pairs : 0), (Edge count : 684554)\n",
      "******** End ********\n",
      "\n",
      "Total elapsed time : 224.2116150856018 secondes\n",
      "The largest component has 654782 elements\n"
     ]
    }
   ],
   "source": [
    "print(\"******** Start ********\")\n",
    "start_time = time.time()\n",
    "components = process_ccf_iterate(rdd_graph, sorting=True)\n",
    "time_ccf = time.time() - start_time\n",
    "print(\"******** End ********\")\n",
    "print(\"\\nTotal elapsed time :\", time_ccf, \"secondes\")\n",
    "print_largest_components_size(components)"
   ]
  },
  {
   "cell_type": "markdown",
   "metadata": {
    "application/vnd.databricks.v1+cell": {
     "cellMetadata": {},
     "inputWidgets": {},
     "nuid": "cf5468b1-5ff4-487f-b718-7bbd8b9a9731",
     "showTitle": false,
     "title": ""
    }
   },
   "source": [
    "#### c. CCF-iterate avec Spark Dataframe\n",
    "***"
   ]
  },
  {
   "cell_type": "code",
   "execution_count": 7,
   "metadata": {
    "application/vnd.databricks.v1+cell": {
     "cellMetadata": {},
     "inputWidgets": {},
     "nuid": "f37829ed-390e-41a2-9b29-b80628c3688d",
     "showTitle": false,
     "title": ""
    },
    "ExecuteTime": {
     "end_time": "2024-04-24T04:42:47.985595400Z",
     "start_time": "2024-04-24T03:48:24.636317600Z"
    }
   },
   "outputs": [
    {
     "name": "stdout",
     "output_type": "stream",
     "text": [
      "******** Start ********\n",
      "=======> (Iteration : 1), (New Pairs were produced : True), (Edge count : 2535600)\n",
      "=======> (Iteration : 2), (New Pairs were produced : True), (Edge count : 1837453)\n",
      "=======> (Iteration : 3), (New Pairs were produced : True), (Edge count : 1362051)\n",
      "=======> (Iteration : 4), (New Pairs were produced : True), (Edge count : 902766)\n",
      "=======> (Iteration : 5), (New Pairs were produced : True), (Edge count : 778913)\n",
      "=======> (Iteration : 6), (New Pairs were produced : True), (Edge count : 779988)\n",
      "=======> (Iteration : 7), (New Pairs were produced : True), (Edge count : 791136)\n",
      "=======> (Iteration : 8), (New Pairs were produced : True), (Edge count : 786668)\n",
      "=======> (Iteration : 9), (New Pairs were produced : True), (Edge count : 759304)\n",
      "=======> (Iteration : 10), (New Pairs were produced : True), (Edge count : 691340)\n",
      "=======> (Iteration : 11), (New Pairs were produced : True), (Edge count : 684749)\n",
      "=======> (Iteration : 12), (New Pairs were produced : True), (Edge count : 684554)\n",
      "=======> (Iteration : 13), (New Pairs were produced : False), (Edge count : 684554)\n",
      "******** End ********\n",
      "\n",
      "Total elapsed time : 3078.892634868622 secondes\n",
      "The largest component has 654782 elements\n"
     ]
    }
   ],
   "source": [
    "print(\"******** Start ********\")\n",
    "start_time = time.time()\n",
    "components_df = process_ccf_iterate_df(df_graph)\n",
    "time_ccf = time.time() - start_time\n",
    "print(\"******** End ********\")\n",
    "print(\"\\nTotal elapsed time :\", time_ccf, \"secondes\")\n",
    "print_largest_components_size(components_df.rdd)"
   ]
  },
  {
   "cell_type": "markdown",
   "metadata": {
    "application/vnd.databricks.v1+cell": {
     "cellMetadata": {},
     "inputWidgets": {},
     "nuid": "7c15e4e3-fd90-4ab3-955e-0a51ae577838",
     "showTitle": false,
     "title": ""
    }
   },
   "source": [
    "#### d. CCF-iterate avec Spark Dataframe et tri secondaire\n",
    "***"
   ]
  },
  {
   "cell_type": "code",
   "execution_count": 8,
   "metadata": {
    "application/vnd.databricks.v1+cell": {
     "cellMetadata": {},
     "inputWidgets": {},
     "nuid": "edf3726d-a2b5-4aca-a558-d2751a959dff",
     "showTitle": false,
     "title": ""
    },
    "ExecuteTime": {
     "end_time": "2024-04-24T05:36:00.565651500Z",
     "start_time": "2024-04-24T04:42:47.970008Z"
    }
   },
   "outputs": [
    {
     "name": "stdout",
     "output_type": "stream",
     "text": [
      "******** Start ********\n",
      "=======> (Iteration : 1), (New Pairs were produced : True), (Edge count : 2591960)\n",
      "=======> (Iteration : 2), (New Pairs were produced : True), (Edge count : 1837453)\n",
      "=======> (Iteration : 3), (New Pairs were produced : True), (Edge count : 1362051)\n",
      "=======> (Iteration : 4), (New Pairs were produced : True), (Edge count : 902766)\n",
      "=======> (Iteration : 5), (New Pairs were produced : True), (Edge count : 778913)\n",
      "=======> (Iteration : 6), (New Pairs were produced : True), (Edge count : 779988)\n",
      "=======> (Iteration : 7), (New Pairs were produced : True), (Edge count : 791136)\n",
      "=======> (Iteration : 8), (New Pairs were produced : True), (Edge count : 786668)\n",
      "=======> (Iteration : 9), (New Pairs were produced : True), (Edge count : 759304)\n",
      "=======> (Iteration : 10), (New Pairs were produced : True), (Edge count : 691340)\n",
      "=======> (Iteration : 11), (New Pairs were produced : True), (Edge count : 684749)\n",
      "=======> (Iteration : 12), (New Pairs were produced : True), (Edge count : 684554)\n",
      "=======> (Iteration : 13), (New Pairs were produced : False), (Edge count : 684554)\n",
      "******** End ********\n",
      "\n",
      "Total elapsed time : 3151.898669719696 secondes\n"
     ]
    }
   ],
   "source": [
    "print(\"******** Start ********\")\n",
    "start_time = time.time()\n",
    "components_df = process_ccf_iterate_df(df_graph, sorting=True)\n",
    "time_ccf = time.time() - start_time\n",
    "print(\"******** End ********\")\n",
    "print(\"\\nTotal elapsed time :\", time_ccf, \"secondes\")\n",
    "print_largest_components_size(components_df.rdd)"
   ]
  },
  {
   "cell_type": "markdown",
   "metadata": {
    "application/vnd.databricks.v1+cell": {
     "cellMetadata": {},
     "inputWidgets": {},
     "nuid": "d397e0a8-1bbf-4c37-90ba-158e3c29d5ff",
     "showTitle": false,
     "title": ""
    }
   },
   "source": [
    "#### e. Variation de la taille des composants connectés\n",
    "***"
   ]
  },
  {
   "cell_type": "code",
   "execution_count": 9,
   "metadata": {
    "application/vnd.databricks.v1+cell": {
     "cellMetadata": {},
     "inputWidgets": {},
     "nuid": "b2694aa9-b96e-462b-820b-51a542fefa08",
     "showTitle": false,
     "title": ""
    },
    "ExecuteTime": {
     "end_time": "2024-04-24T05:40:36.813266500Z",
     "start_time": "2024-04-24T05:40:27.496526Z"
    }
   },
   "outputs": [],
   "source": [
    "cc = components.map(lambda x: (len(x[1]), 1)).filter(lambda x: x[0] > 1)\n",
    "cc = cc.reduceByKey(lambda x, y: x + y)\n",
    "X = cc.map(lambda x: x[0]).collect()  #key = Different sizes of connected components\n",
    "Y = cc.map(lambda x: x[1]).collect()  #value = The total number of connected components having a certain size"
   ]
  },
  {
   "cell_type": "code",
   "execution_count": 11,
   "metadata": {
    "application/vnd.databricks.v1+cell": {
     "cellMetadata": {},
     "inputWidgets": {},
     "nuid": "9501608b-b196-4ba8-b465-52b05e21da08",
     "showTitle": false,
     "title": ""
    },
    "ExecuteTime": {
     "end_time": "2024-04-24T05:41:20.208763Z",
     "start_time": "2024-04-24T05:41:19.721976500Z"
    }
   },
   "outputs": [
    {
     "data": {
      "text/plain": "<Figure size 1000x800 with 1 Axes>",
      "image/png": "[encoded data removed]"
     },
     "metadata": {},
     "output_type": "display_data"
    }
   ],
   "source": [
    "plt.figure(figsize=(10, 8))\n",
    "plt.plot(X, Y, 'rx', marker='.', markersize=13, alpha=0.6, color='r')\n",
    "\n",
    "plt.xscale(\"log\")\n",
    "plt.xlabel(\"Nodes count\")\n",
    "plt.xlim(left=1)\n",
    "\n",
    "plt.yscale(\"log\")\n",
    "plt.ylabel(\"frequency\")\n",
    "plt.ylim(bottom=1)\n",
    "\n",
    "plt.title(\"Connected component size\")\n",
    "plt.grid(True)"
   ]
  },
  {
   "cell_type": "markdown",
   "metadata": {
    "application/vnd.databricks.v1+cell": {
     "cellMetadata": {},
     "inputWidgets": {},
     "nuid": "7523d623-ae85-4854-b90a-8df5435b57fe",
     "showTitle": false,
     "title": ""
    }
   },
   "source": [
    "### 2.1. Graphe 2\n",
    "***"
   ]
  },
  {
   "cell_type": "code",
   "execution_count": 6,
   "metadata": {
    "application/vnd.databricks.v1+cell": {
     "cellMetadata": {},
     "inputWidgets": {},
     "nuid": "80c5e450-1284-4eb1-a6c4-71d62f6711df",
     "showTitle": false,
     "title": ""
    },
    "ExecuteTime": {
     "end_time": "2024-04-24T10:42:15.177893200Z",
     "start_time": "2024-04-24T10:42:01.604654200Z"
    }
   },
   "outputs": [
    {
     "name": "stdout",
     "output_type": "stream",
     "text": [
      "+------+------+\n",
      "|    _1|    _2|\n",
      "+------+------+\n",
      "|     0| 11342|\n",
      "|     0|824020|\n",
      "|     0|867923|\n",
      "|     0|891835|\n",
      "| 11342|     0|\n",
      "| 11342| 27469|\n",
      "| 11342| 38716|\n",
      "| 11342|309564|\n",
      "| 11342|322178|\n",
      "| 11342|387543|\n",
      "| 11342|427436|\n",
      "| 11342|538214|\n",
      "| 11342|638706|\n",
      "| 11342|645018|\n",
      "| 11342|835220|\n",
      "| 11342|856657|\n",
      "| 11342|867923|\n",
      "| 11342|891835|\n",
      "|824020|     0|\n",
      "|824020| 91807|\n",
      "+------+------+\n"
     ]
    }
   ],
   "source": [
    "ss.sparkContext.addFile(\"https://gitlab.com/diehl17/data/-/raw/main/web/web-Google.txt\")\n",
    "raw_data = ss.sparkContext.textFile(root + SparkFiles.get(\"web-Google.txt\"))\n",
    "\n",
    "raw_data = raw_data.filter(lambda x: \"#\" not in x)\n",
    "rdd_graph = raw_data.map(lambda x: x.split(\"\\t\"))\n",
    "df_graph = rdd_graph.toDF()\n",
    "\n",
    "df_graph.show()"
   ]
  },
  {
   "cell_type": "markdown",
   "metadata": {
    "application/vnd.databricks.v1+cell": {
     "cellMetadata": {},
     "inputWidgets": {},
     "nuid": "84f1d7dc-f822-424a-aef4-6bbe68d4b863",
     "showTitle": false,
     "title": ""
    }
   },
   "source": [
    "#### a. CCF-iterate avec Spark RDD\n",
    "***"
   ]
  },
  {
   "cell_type": "code",
   "execution_count": 13,
   "metadata": {
    "application/vnd.databricks.v1+cell": {
     "cellMetadata": {},
     "inputWidgets": {},
     "nuid": "3742f2a7-667a-4bf4-90c9-0e1b1a05ce24",
     "showTitle": false,
     "title": ""
    },
    "ExecuteTime": {
     "end_time": "2024-04-24T05:45:24.459844600Z",
     "start_time": "2024-04-24T05:41:29.678522700Z"
    }
   },
   "outputs": [
    {
     "name": "stdout",
     "output_type": "stream",
     "text": [
      "******** Start ********\n",
      "=======> (Iteration : 1), (New Pairs : 8546673), (Edge count : 3237785)\n",
      "=======> (Iteration : 2), (New Pairs : 4774134), (Edge count : 2112394)\n",
      "=======> (Iteration : 3), (New Pairs : 3235857), (Edge count : 2408734)\n",
      "=======> (Iteration : 4), (New Pairs : 3852842), (Edge count : 1859063)\n",
      "=======> (Iteration : 5), (New Pairs : 2014247), (Edge count : 919907)\n",
      "=======> (Iteration : 6), (New Pairs : 94614), (Edge count : 873741)\n",
      "=======> (Iteration : 7), (New Pairs : 1548), (Edge count : 872967)\n",
      "=======> (Iteration : 8), (New Pairs : 0), (Edge count : 872967)\n",
      "******** End ********\n",
      "\n",
      "Total elapsed time : 231.62047219276428 secondes\n",
      "The largest component has 855802 elements\n"
     ]
    }
   ],
   "source": [
    "print(\"******** Start ********\")\n",
    "start_time = time.time()\n",
    "components = process_ccf_iterate(rdd_graph)\n",
    "time_ccf = time.time() - start_time\n",
    "print(\"******** End ********\")\n",
    "print(\"\\nTotal elapsed time :\", time_ccf, \"secondes\")\n",
    "print_largest_components_size(components)"
   ]
  },
  {
   "cell_type": "markdown",
   "metadata": {
    "application/vnd.databricks.v1+cell": {
     "cellMetadata": {},
     "inputWidgets": {},
     "nuid": "5dded51b-a300-49dc-8984-77560076a22d",
     "showTitle": false,
     "title": ""
    }
   },
   "source": [
    "#### b. CCF-iterate avec Spark RDD et tri secondaire\n",
    "***"
   ]
  },
  {
   "cell_type": "code",
   "execution_count": 10,
   "metadata": {
    "application/vnd.databricks.v1+cell": {
     "cellMetadata": {},
     "inputWidgets": {},
     "nuid": "374abb45-4ce1-4c4d-be2d-4e145c066266",
     "showTitle": false,
     "title": ""
    },
    "ExecuteTime": {
     "end_time": "2024-04-24T12:47:56.580683800Z",
     "start_time": "2024-04-24T12:43:54.534643200Z"
    }
   },
   "outputs": [
    {
     "name": "stdout",
     "output_type": "stream",
     "text": [
      "******** Start ********\n",
      "=======> (Iteration : 1), (New Pairs : 8666408), (Edge count : 3277439)\n",
      "=======> (Iteration : 2), (New Pairs : 4837940), (Edge count : 2112394)\n",
      "=======> (Iteration : 3), (New Pairs : 3235857), (Edge count : 2408734)\n",
      "=======> (Iteration : 4), (New Pairs : 3852842), (Edge count : 1859063)\n",
      "=======> (Iteration : 5), (New Pairs : 2014247), (Edge count : 919907)\n",
      "=======> (Iteration : 6), (New Pairs : 94614), (Edge count : 873741)\n",
      "=======> (Iteration : 7), (New Pairs : 1548), (Edge count : 872967)\n",
      "=======> (Iteration : 8), (New Pairs : 0), (Edge count : 872967)\n",
      "******** End ********\n",
      "\n",
      "Total elapsed time : 238.28759622573853 secondes\n",
      "The largest component has 855802 elements\n"
     ]
    }
   ],
   "source": [
    "print(\"******** Start ********\")\n",
    "start_time = time.time()\n",
    "components = process_ccf_iterate(rdd_graph, sorting=True)\n",
    "time_ccf = time.time() - start_time\n",
    "print(\"******** End ********\")\n",
    "print(\"\\nTotal elapsed time :\", time_ccf, \"secondes\")\n",
    "print_largest_components_size(components)"
   ]
  },
  {
   "cell_type": "markdown",
   "metadata": {
    "application/vnd.databricks.v1+cell": {
     "cellMetadata": {},
     "inputWidgets": {},
     "nuid": "6735d1b1-68e4-4582-bbc4-6719f267ac64",
     "showTitle": false,
     "title": ""
    }
   },
   "source": [
    "#### c. CCF-iterate avec Spark Dataframe\n",
    "***"
   ]
  },
  {
   "cell_type": "code",
   "execution_count": 7,
   "metadata": {
    "application/vnd.databricks.v1+cell": {
     "cellMetadata": {},
     "inputWidgets": {},
     "nuid": "65a22530-d48b-42cb-91b2-46011456ea0b",
     "showTitle": false,
     "title": ""
    },
    "ExecuteTime": {
     "end_time": "2024-04-24T11:15:11.317757700Z",
     "start_time": "2024-04-24T10:43:16.682436200Z"
    }
   },
   "outputs": [
    {
     "name": "stdout",
     "output_type": "stream",
     "text": [
      "******** Start ********\n",
      "=======> (Iteration : 1), (New Pairs were produced : True), (Edge count : 3237785)\n",
      "=======> (Iteration : 2), (New Pairs were produced : True), (Edge count : 2112394)\n",
      "=======> (Iteration : 3), (New Pairs were produced : True), (Edge count : 2408734)\n",
      "=======> (Iteration : 4), (New Pairs were produced : True), (Edge count : 1859063)\n",
      "=======> (Iteration : 5), (New Pairs were produced : True), (Edge count : 919907)\n",
      "=======> (Iteration : 6), (New Pairs were produced : True), (Edge count : 873741)\n",
      "=======> (Iteration : 7), (New Pairs were produced : True), (Edge count : 872967)\n",
      "=======> (Iteration : 8), (New Pairs were produced : False), (Edge count : 872967)\n",
      "******** End ********\n",
      "\n",
      "Total elapsed time : 1747.2666165828705 secondes\n",
      "The largest component has 855802 elements\n"
     ]
    }
   ],
   "source": [
    "print(\"******** Start ********\")\n",
    "start_time = time.time()\n",
    "components_df = process_ccf_iterate_df(df_graph)\n",
    "time_ccf = time.time() - start_time\n",
    "print(\"******** End ********\")\n",
    "print(\"\\nTotal elapsed time :\", time_ccf, \"secondes\")\n",
    "print_largest_components_size(components_df.rdd)"
   ]
  },
  {
   "cell_type": "markdown",
   "metadata": {
    "application/vnd.databricks.v1+cell": {
     "cellMetadata": {},
     "inputWidgets": {},
     "nuid": "2b125e15-6116-48fa-a5e5-a205772764c0",
     "showTitle": false,
     "title": ""
    }
   },
   "source": [
    "#### d. CCF-iterate avec Spark Dataframe et tri secondaire\n",
    "***"
   ]
  },
  {
   "cell_type": "code",
   "execution_count": 8,
   "metadata": {
    "application/vnd.databricks.v1+cell": {
     "cellMetadata": {},
     "inputWidgets": {},
     "nuid": "a2ba2d02-54fd-4031-9a77-a94d6787fc41",
     "showTitle": false,
     "title": ""
    },
    "ExecuteTime": {
     "end_time": "2024-04-24T11:53:30.166128300Z",
     "start_time": "2024-04-24T11:20:49.770384300Z"
    }
   },
   "outputs": [
    {
     "name": "stdout",
     "output_type": "stream",
     "text": [
      "******** Start ********\n",
      "=======> (Iteration : 1), (New Pairs were produced : True), (Edge count : 3277439)\n",
      "=======> (Iteration : 2), (New Pairs were produced : True), (Edge count : 2112394)\n",
      "=======> (Iteration : 3), (New Pairs were produced : True), (Edge count : 2408734)\n",
      "=======> (Iteration : 4), (New Pairs were produced : True), (Edge count : 1859063)\n",
      "=======> (Iteration : 5), (New Pairs were produced : True), (Edge count : 919907)\n",
      "=======> (Iteration : 6), (New Pairs were produced : True), (Edge count : 873741)\n",
      "=======> (Iteration : 7), (New Pairs were produced : True), (Edge count : 872967)\n",
      "=======> (Iteration : 8), (New Pairs were produced : False), (Edge count : 872967)\n",
      "******** End ********\n",
      "\n",
      "Total elapsed time : 1790.7637417316437 secondes\n",
      "The largest component has 855802 elements\n"
     ]
    }
   ],
   "source": [
    "print(\"******** Start ********\")\n",
    "start_time = time.time()\n",
    "components_df = process_ccf_iterate_df(df_graph, sorting=True)\n",
    "time_ccf = time.time() - start_time\n",
    "print(\"******** End ********\")\n",
    "print(\"\\nTotal elapsed time :\", time_ccf, \"secondes\")\n",
    "print_largest_components_size(components_df.rdd)"
   ]
  },
  {
   "cell_type": "markdown",
   "metadata": {
    "application/vnd.databricks.v1+cell": {
     "cellMetadata": {},
     "inputWidgets": {},
     "nuid": "5a2b072e-f7b1-45e3-9dbd-d749510850ab",
     "showTitle": false,
     "title": ""
    }
   },
   "source": [
    "#### e. Variation de la taille des composants connectés\n",
    "***"
   ]
  },
  {
   "cell_type": "code",
   "execution_count": 11,
   "metadata": {
    "application/vnd.databricks.v1+cell": {
     "cellMetadata": {},
     "inputWidgets": {},
     "nuid": "263ee8bf-23fd-40c2-8c65-ebae806bfa36",
     "showTitle": false,
     "title": ""
    },
    "ExecuteTime": {
     "end_time": "2024-04-24T12:51:06.590919Z",
     "start_time": "2024-04-24T12:51:00.227233900Z"
    }
   },
   "outputs": [],
   "source": [
    "cc = components.map(lambda x: (len(x[1]), 1)).filter(lambda x: x[0] > 1)\n",
    "cc = cc.reduceByKey(lambda x, y: x + y)\n",
    "X = cc.map(lambda x: x[0]).collect()  #key = Different sizes of connected components\n",
    "Y = cc.map(lambda x: x[1]).collect()  #value = The total number of connected components having a certain size"
   ]
  },
  {
   "cell_type": "code",
   "execution_count": 12,
   "metadata": {
    "application/vnd.databricks.v1+cell": {
     "cellMetadata": {},
     "inputWidgets": {},
     "nuid": "187b7b9d-93bb-45ac-bc9f-0e813d428d9f",
     "showTitle": false,
     "title": ""
    },
    "ExecuteTime": {
     "end_time": "2024-04-24T12:51:10.996807200Z",
     "start_time": "2024-04-24T12:51:09.219612100Z"
    }
   },
   "outputs": [
    {
     "data": {
      "text/plain": "<Figure size 1000x800 with 1 Axes>",
      "image/png": "[encoded data removed]"
     },
     "metadata": {},
     "output_type": "display_data"
    }
   ],
   "source": [
    "plt.figure(figsize=(10, 8))\n",
    "plt.plot(X, Y, 'rx', marker='.', markersize=13, alpha=0.6, color='r')\n",
    "\n",
    "plt.xscale(\"log\")\n",
    "plt.xlabel(\"Nodes count\")\n",
    "plt.xlim(left=1)\n",
    "\n",
    "plt.yscale(\"log\")\n",
    "plt.ylabel(\"frequency\")\n",
    "plt.ylim(bottom=1)\n",
    "\n",
    "plt.title(\"Connected component size\")\n",
    "plt.grid(True)"
   ]
  },
  {
   "cell_type": "markdown",
   "metadata": {
    "application/vnd.databricks.v1+cell": {
     "cellMetadata": {},
     "inputWidgets": {},
     "nuid": "75abacdd-350c-493f-9807-2f3a92f87285",
     "showTitle": false,
     "title": ""
    }
   },
   "source": [
    "***\n",
    "Arrivé au terme de notre article, nous avons pu utiliser deux ensembles de données réels dans nos expériences et nous avons pu comparer une implémentation avec Spark RDD par rapport à une autre avec Spark Dataframe. Nous constatons que notre approche avec Spark RDD a obtenu les meilleures performances en termes de temps d'exécution total et a été moins complexe à mettre en place. La raison principale de ce résultat est que Spark SQL et sa classe Dataframe ne fournit pas des méthodes adaptées à l'analyse des graphes, mais plutôt adaptés à l'analyse des données relationnelles. Cette inadéquation de Spark SQL nous a alors obligé à surcharger des opérations couteuses pour reproduire le comportement des opérations MapReduce utilisable avec RDD."
   ]
  }
 ],
 "metadata": {
  "application/vnd.databricks.v1+notebook": {
   "dashboards": [],
   "language": "python",
   "notebookMetadata": {
    "pythonIndentUnit": 4
   },
   "notebookName": "connected-component",
   "notebookOrigID": 850122491880872,
   "widgets": {}
  },
  "kernelspec": {
   "display_name": "Python 3 (ipykernel)",
   "language": "python",
   "name": "python3"
  },
  "language_info": {
   "codemirror_mode": {
    "name": "ipython",
    "version": 3
   },
   "file_extension": ".py",
   "mimetype": "text/x-python",
   "name": "python",
   "nbconvert_exporter": "python",
   "pygments_lexer": "ipython3",
   "version": "3.9.15"
  }
 },
 "nbformat": 4,
 "nbformat_minor": 1
}
